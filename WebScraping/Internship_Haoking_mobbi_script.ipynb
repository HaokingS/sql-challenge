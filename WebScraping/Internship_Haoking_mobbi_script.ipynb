{
 "cells": [
  {
   "attachments": {},
   "cell_type": "markdown",
   "metadata": {},
   "source": [
    "# Import Necessary Libraries"
   ]
  },
  {
   "cell_type": "code",
   "execution_count": null,
   "metadata": {},
   "outputs": [],
   "source": [
    "from selenium import webdriver\n",
    "from selenium.webdriver.chrome.options import Options\n",
    "from selenium.webdriver.common.by import By\n",
    "import time\n",
    "import pandas as pd\n",
    "from fake_useragent import UserAgent\n",
    "from lxml import etree"
   ]
  },
  {
   "attachments": {},
   "cell_type": "markdown",
   "metadata": {},
   "source": [
    "# Setting Options and User Agent"
   ]
  },
  {
   "cell_type": "code",
   "execution_count": null,
   "metadata": {},
   "outputs": [],
   "source": [
    "user_agent = UserAgent()\n",
    "options = Options()\n",
    "# options.add_argument('--headless')\n",
    "options.add_argument('--disable-gpu')\n",
    "options.add_argument('--disable-extensions')\n",
    "options.add_argument('--disable-notifications')\n",
    "options.add_argument('--disable-popup-blocking')\n",
    "options.add_argument(f'user-agent={user_agent.random}')\n",
    "# options.add_argument('--incognito')"
   ]
  },
  {
   "attachments": {},
   "cell_type": "markdown",
   "metadata": {},
   "source": [
    "# Function to Extract Data From Website"
   ]
  },
  {
   "cell_type": "code",
   "execution_count": null,
   "metadata": {},
   "outputs": [],
   "source": [
    "def getData(element):\n",
    "    data = {}\n",
    "    data['Product Link'] = 'https://www.mobbi.id' + element.find(\".//a\").get('href')\n",
    "    data['Product Brand'] = element.get('data-product-brand')\n",
    "    data['Product Model'] = element.get('data-product-category')\n",
    "    data['Product Variant'] = element.get('data-product-variant')\n",
    "    data['Product Price'] = element.get('data-product-price')\n",
    "    data['Product Transmission'] = element.get('data-product-transmission')\n",
    "    data['Product Mileage'] = element.get('data-product-mileage')\n",
    "    data['Product Year'] = element.get('data-product-year')\n",
    "    data['Product Location'] = element.get('data-product-location')\n",
    "    return data"
   ]
  },
  {
   "attachments": {},
   "cell_type": "markdown",
   "metadata": {},
   "source": [
    "# Set up WebDriver and other variables"
   ]
  },
  {
   "cell_type": "code",
   "execution_count": null,
   "metadata": {},
   "outputs": [],
   "source": [
    "options = Options()\n",
    "base_url = 'https://www.mobbi.id/'\n",
    "driver = webdriver.Chrome(options=options)\n",
    "driver.maximize_window()\n",
    "driver.get(base_url)\n",
    "time.sleep(5)\n",
    "data = list()\n",
    "\n",
    "driver.find_element(\"xpath\", '//*[@id=\"btnwClear\"]').click()\n",
    "for i in range(1,3):\n",
    "    driver.find_element(\"xpath\", '//*[@id=\"headerNonIbid\"]/li/div/div/form/div/div[1]/input[1]').click()\n",
    "    driver.find_element(\"xpath\", f'//*[@id=\"list-brand-search\"]/li[{i}]').click()\n",
    "    # Scrolling and Extract Data\n",
    "    SCROLL_PAUSE_TIME = 3\n",
    "\n",
    "    last_height = driver.execute_script(\"return document.body.scrollHeight\")\n",
    "\n",
    "    while True:\n",
    "        driver.execute_script(\"window.scrollTo(0, document.body.scrollHeight);\")\n",
    "        time.sleep(SCROLL_PAUSE_TIME)\n",
    "        new_height = driver.execute_script(\"return document.body.scrollHeight\")\n",
    "        if new_height == last_height:\n",
    "            break\n",
    "        last_height = new_height\n",
    "\n",
    "    html_content = driver.page_source\n",
    "    \n",
    "    parser = etree.HTMLParser()\n",
    "    tree = etree.fromstring(html_content, parser)\n",
    "    elements = tree.xpath('//div[@class=\"featured-car-product for-compare-button no-rounded-bottom\"]')\n",
    "    data_list = [getData(element) for element in elements]\n",
    "    data.extend(data_list)\n",
    "driver.quit()\n",
    "data = pd.DataFrame(data)\n",
    "data.head()"
   ]
  },
  {
   "attachments": {},
   "cell_type": "markdown",
   "metadata": {},
   "source": [
    "# Cleaning Data"
   ]
  },
  {
   "cell_type": "code",
   "execution_count": null,
   "metadata": {},
   "outputs": [],
   "source": [
    "data = data[data['Product Brand'].notna()] # Drop None\n",
    "data['Product Price'] = data['Product Price'].dropna().apply(lambda x: int(float(x))) # Change Price Scientific Number to int\n",
    "data['Product Mileage'] = data['Product Mileage'].astype(int) # Change Product Mileage to int\n",
    "data.head()"
   ]
  },
  {
   "attachments": {},
   "cell_type": "markdown",
   "metadata": {},
   "source": [
    "# Export to CSV"
   ]
  },
  {
   "cell_type": "code",
   "execution_count": null,
   "metadata": {},
   "outputs": [],
   "source": [
    "data.to_csv('Internship_Haoking_mobbi_data.csv', index=False)"
   ]
  },
  {
   "attachments": {},
   "cell_type": "markdown",
   "metadata": {},
   "source": [
    "# Export to database"
   ]
  },
  {
   "cell_type": "code",
   "execution_count": null,
   "metadata": {},
   "outputs": [],
   "source": [
    "from sqlalchemy import create_engine\n",
    "from dotenv import load_dotenv\n",
    "import os\n",
    "\n",
    "load_dotenv()\n",
    "# variable environment\n",
    "POSTGRES_USER = os.environ.get(\"POSTGRES_USER\")\n",
    "POSTGRES_PASSWORD = os.environ.get(\"POSTGRES_PASSWORD\")\n",
    "POSTGRES_HOST = os.environ.get(\"POSTGRES_HOST\")\n",
    "POSTGRES_PORT = os.environ.get(\"POSTGRES_PORT\")\n",
    "POSTGRES_DATABASE = os.environ.get(\"POSTGRES_DATABASE\")\n",
    "\n",
    "engine = create_engine(f'postgresql://{POSTGRES_USER}:{POSTGRES_PASSWORD}@{POSTGRES_HOST}:{POSTGRES_PORT}/{POSTGRES_DATABASE}')\n",
    "connection = engine.connect()\n",
    "\n",
    "table_name = 'Internship_Haoking_mobbi_scraping'\n",
    "data.to_sql(table_name, engine, if_exists='replace', index=False)"
   ]
  }
 ],
 "metadata": {
  "kernelspec": {
   "display_name": "venv",
   "language": "python",
   "name": "python3"
  },
  "language_info": {
   "codemirror_mode": {
    "name": "ipython",
    "version": 3
   },
   "file_extension": ".py",
   "mimetype": "text/x-python",
   "name": "python",
   "nbconvert_exporter": "python",
   "pygments_lexer": "ipython3",
   "version": "3.10.9"
  },
  "orig_nbformat": 4
 },
 "nbformat": 4,
 "nbformat_minor": 2
}
